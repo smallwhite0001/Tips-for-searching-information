{
 "cells": [
  {
   "cell_type": "markdown",
   "metadata": {},
   "source": [
    "# 上网搜索信息的技巧"
   ]
  },
  {
   "cell_type": "markdown",
   "metadata": {},
   "source": [
    "我们几乎每天都要用到搜索引擎，都会上网搜索一些信息，例如买东西，查资料，问问题……"
   ]
  },
  {
   "cell_type": "markdown",
   "metadata": {},
   "source": [
    "很多人都是需要搜什么就直白地输入什么，可能不知道搜索还有一些技巧，能够让我们的搜索结果过滤掉不必要的噪音，更精准地找到我们需要的信息。"
   ]
  },
  {
   "cell_type": "markdown",
   "metadata": {},
   "source": [
    "下面列出了最常用搜索技巧。"
   ]
  },
  {
   "cell_type": "markdown",
   "metadata": {},
   "source": [
    "## 在正确的平台上搜索"
   ]
  },
  {
   "cell_type": "markdown",
   "metadata": {},
   "source": [
    "如果要搜索某个领域的信息，直接“百度”（泛指百度，谷歌，bing）也可以，但更佳的做法是到相应的平台上搜索。例如你买东西，当然到京东，天猫等平台上去搜更合适；书评或影评，豆瓣等上面搜更好；问答到知乎等；文献资料到知网等…… "
   ]
  },
  {
   "cell_type": "markdown",
   "metadata": {},
   "source": [
    "提示：如果你不知道要搜索的内容有哪些更好的平台可以去搜索，先“百度”（泛指百度，谷歌，bing）一下再去相应平台搜索。例如："
   ]
  },
  {
   "cell_type": "markdown",
   "metadata": {},
   "source": [
    "![](imgs/20211029092923.png)"
   ]
  },
  {
   "cell_type": "markdown",
   "metadata": {},
   "source": [
    "## 输入准确的关键字"
   ]
  },
  {
   "cell_type": "markdown",
   "metadata": {},
   "source": [
    "在搜索信息的时候，输入准确的关键字非常重要。关键字不准确，可能搜索到的信息非常宽泛；或非常狭窄几乎没有需要的内容；或是些不相关的信息。"
   ]
  },
  {
   "cell_type": "markdown",
   "metadata": {},
   "source": [
    "因此，在搜索信息的时候，提炼准确的关键字至关重要。例如你想了解 “打雷时先看到闪电再听到雷声的物理现象” 是什么原因，你搜 “打雷”，“闪电” 或是 “物理现象” 都不能得到准确信息。提炼搜索内容的关键字，用最简短且简洁的几个字描述清楚要搜索的内容，才是正确的做法，因此你可以搜 “打雷先看到闪电”："
   ]
  },
  {
   "cell_type": "markdown",
   "metadata": {},
   "source": [
    "![](imgs/20211029095341.png)"
   ]
  },
  {
   "cell_type": "markdown",
   "metadata": {},
   "source": [
    "当然，这是一个非常简单且常见的问题，你可以输入更详细的内容搜索，直接搜索整句话 “打雷时先看到闪电再听到雷声的物理现象” 也能搜到相关内容，某些信息或不常见的内容这样做可能就搜不到了。"
   ]
  },
  {
   "cell_type": "markdown",
   "metadata": {},
   "source": [
    "另外，关键字可以提炼多个同时输入；如果搜索的内容是固定的，例如搜索一本书，忘了完整的书名，可以将没忘的内容作为关键字搜索。我们以《剧本：影视写作的艺术、技巧和商业运作》这本书为例，如果你只记得前面的 “剧本” 和后面的 “商业运作”，可以这样搜："
   ]
  },
  {
   "cell_type": "markdown",
   "metadata": {},
   "source": [
    "![](imgs/20211029113510.png)"
   ]
  },
  {
   "cell_type": "markdown",
   "metadata": {},
   "source": [
    "## 巧用搜索引擎"
   ]
  },
  {
   "cell_type": "markdown",
   "metadata": {},
   "source": [
    "用搜索引擎搜索信息的时候，有一些非常好用的技巧，这些技巧在百度，谷歌（需要科学上网），bing，搜狗等都是通用的。"
   ]
  },
  {
   "cell_type": "markdown",
   "metadata": {},
   "source": [
    "下面列出比较常用的一些搜索技巧："
   ]
  },
  {
   "cell_type": "markdown",
   "metadata": {},
   "source": [
    "### 英文双引号搜索"
   ]
  },
  {
   "cell_type": "markdown",
   "metadata": {},
   "source": [
    "将搜索关键字放在一对英文双引号中，则该关键字不可拆分。例如搜索 `\"打雷先看到闪电\"`，则在搜索到的内容中 “打雷先看到闪电” 这个关键字是完整的："
   ]
  },
  {
   "cell_type": "markdown",
   "metadata": {},
   "source": [
    "![](imgs/20211029102250.png)"
   ]
  },
  {
   "cell_type": "markdown",
   "metadata": {},
   "source": [
    "### 减号搜索"
   ]
  },
  {
   "cell_type": "markdown",
   "metadata": {},
   "source": [
    "你希望搜索结果中不包含某个（些）关键字，则可以使用 `关键字 -关键字 -关键字`（`-` 前有空格，后没空格）的格式进行搜索，搜索结果中将排除 `-` 号后面的关键字。例如搜索 “双截棍” 但不包含 “周杰伦”，可以这样搜索 `双截棍 -周杰伦`："
   ]
  },
  {
   "cell_type": "markdown",
   "metadata": {},
   "source": [
    "![](imgs/20211030105345.png)"
   ]
  },
  {
   "cell_type": "markdown",
   "metadata": {},
   "source": [
    "### filetype 搜索"
   ]
  },
  {
   "cell_type": "markdown",
   "metadata": {},
   "source": [
    "如果你希望搜索的内容是某种格式的文件，则使用 `关键字 filetype:文件格式`（注意空格和符号）的形式进行搜索。例如搜索 “人工智能” 相关的 pdf 文件，可以这样输入 `人工智能 filetype:pdf`："
   ]
  },
  {
   "cell_type": "markdown",
   "metadata": {},
   "source": [
    "![](imgs/20211029122349.png)"
   ]
  },
  {
   "cell_type": "markdown",
   "metadata": {},
   "source": [
    "### site 搜索"
   ]
  },
  {
   "cell_type": "markdown",
   "metadata": {},
   "source": [
    "使用 `关键字 site 网址` 的格式，可以首先搜索指定的网站上的内容。例如搜索 cctv 上关于鲁迅的的内容，可以这样输入 `鲁迅 site cctv.com`："
   ]
  },
  {
   "cell_type": "markdown",
   "metadata": {},
   "source": [
    "![](imgs/20211029184040.png)"
   ]
  },
  {
   "cell_type": "markdown",
   "metadata": {},
   "source": [
    "### intitle 或 allintitle 搜索"
   ]
  },
  {
   "cell_type": "markdown",
   "metadata": {},
   "source": [
    "如果希望搜索的关键字必须出现在标题中，则可以使用 `intetle:关键字` 或 `allintitle:关键字` 的格式进行搜索。"
   ]
  },
  {
   "cell_type": "markdown",
   "metadata": {},
   "source": [
    "注意后者不可再加入其他限制条件，并且使用百度搜索，后面的关键字至少两个以上。"
   ]
  },
  {
   "cell_type": "markdown",
   "metadata": {},
   "source": [
    "allintitle 不可加入其他限制："
   ]
  },
  {
   "cell_type": "markdown",
   "metadata": {},
   "source": [
    "![](imgs/20211030115548.png)"
   ]
  },
  {
   "cell_type": "markdown",
   "metadata": {},
   "source": [
    "allintitle 百度搜索至少两个以上关键字："
   ]
  },
  {
   "cell_type": "markdown",
   "metadata": {},
   "source": [
    "![](imgs/20211030115705.png)"
   ]
  },
  {
   "cell_type": "markdown",
   "metadata": {},
   "source": [
    "intitle 则无限制："
   ]
  },
  {
   "cell_type": "markdown",
   "metadata": {},
   "source": [
    "![](imgs/20211030115834.png)"
   ]
  },
  {
   "cell_type": "markdown",
   "metadata": {},
   "source": [
    "![](imgs/20211030115915.png)"
   ]
  },
  {
   "cell_type": "markdown",
   "metadata": {},
   "source": [
    "### inurl 搜索"
   ]
  },
  {
   "cell_type": "markdown",
   "metadata": {},
   "source": [
    "如果希望搜索的关键字包含再网址（url）中，则可以使用 `url:关键字` 的格式搜索。"
   ]
  },
  {
   "cell_type": "markdown",
   "metadata": {},
   "source": [
    "该搜索方法适合百度和谷歌，例如用百度搜索 url 中包含 “文学” 的内容，用谷歌搜索包含 “computer” 的内容："
   ]
  },
  {
   "cell_type": "markdown",
   "metadata": {},
   "source": [
    "![](imgs/20211030122950.png)"
   ]
  },
  {
   "cell_type": "markdown",
   "metadata": {},
   "source": [
    "![](imgs/20211030123048.png)"
   ]
  },
  {
   "cell_type": "markdown",
   "metadata": {},
   "source": [
    "### 综合搜索"
   ]
  },
  {
   "cell_type": "markdown",
   "metadata": {},
   "source": [
    "最后，我们可以将上述搜索技巧综合起来使用。例如搜索央视网上标题中包含 “鲁迅” 的内容可以这样搜；"
   ]
  },
  {
   "cell_type": "markdown",
   "metadata": {},
   "source": [
    "![](imgs/20211030130320.png)"
   ]
  },
  {
   "cell_type": "markdown",
   "metadata": {},
   "source": [
    "或者搜索 url 中包含 “computer”（搜索结果中 url 都包含 “computer”，只是 url 太长，隐藏了），标题中有 “AI” 的内容："
   ]
  },
  {
   "cell_type": "markdown",
   "metadata": {},
   "source": [
    "![](imgs/20211030130712.png)"
   ]
  }
 ],
 "metadata": {
  "kernelspec": {
   "display_name": "Python 3",
   "language": "python",
   "name": "python3"
  },
  "language_info": {
   "codemirror_mode": {
    "name": "ipython",
    "version": 3
   },
   "file_extension": ".py",
   "mimetype": "text/x-python",
   "name": "python",
   "nbconvert_exporter": "python",
   "pygments_lexer": "ipython3",
   "version": "3.7.3"
  }
 },
 "nbformat": 4,
 "nbformat_minor": 2
}